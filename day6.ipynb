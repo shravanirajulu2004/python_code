{
 "cells": [
  {
   "cell_type": "code",
   "execution_count": 14,
   "id": "2669344d-8683-4c39-995a-7848e605cf04",
   "metadata": {},
   "outputs": [
    {
     "name": "stdout",
     "output_type": "stream",
     "text": [
      "car: sports car 2 1500cc KA2002 60000 RED\n",
      "truck: 3 1000 KA2003 150000 black\n"
     ]
    }
   ],
   "source": [
    "class vehicle:\n",
    "    def __init__(self,r,p,c):\n",
    "        self.rejplate=r\n",
    "        self.price=p\n",
    "        self.colour=c\n",
    "        \n",
    "class car(vehicle):\n",
    "    def __init__(self,t,np,s,r,p,c):\n",
    "        self.type=t\n",
    "        self.noofpassenger=np\n",
    "        self.maximumspeed=s\n",
    "        super().__init__(r,p,c)\n",
    "\n",
    "class truck(vehicle):\n",
    "    def __init__(self,a,lc,r,p,c):\n",
    "        self.noofaxile=a\n",
    "        self.loadcapacity=lc\n",
    "        super().__init__(r,p,c)\n",
    "\n",
    "\n",
    "ob2 = car(\"sports car\",2,\"1500cc\",\"KA2002\",60000,\"RED\")\n",
    "ob3 = truck(3,1000,\"KA2003\",150000,\"black\")\n",
    "\n",
    "print(\"car:\",ob2.type,ob2.noofpassenger,ob2.maximumspeed,ob2.rejplate,ob2.price,ob2.colour)\n",
    "print(\"truck:\",ob3.noofaxile,ob3.loadcapacity,ob3.rejplate,ob3.price,ob3.colour)"
   ]
  },
  {
   "cell_type": "code",
   "execution_count": 19,
   "id": "10801752-3548-44ca-838c-e3a1d9a4e854",
   "metadata": {},
   "outputs": [
    {
     "name": "stdout",
     "output_type": "stream",
     "text": [
      "staff: norm employee 4th floor SH2004 goku 500000\n",
      "devloper: b h 5yrs SH2004 goku 500000\n",
      "manager: library management system sunidhi SH2004 goku 500000\n"
     ]
    }
   ],
   "source": [
    "class employee:\n",
    "    def __init__(self,ID,n,sal):\n",
    "        self.ID=ID\n",
    "        self.name=n\n",
    "        self.salary=sal\n",
    "\n",
    "class staff(employee):\n",
    "    def __init__(self,t,a,ID,n,sal):\n",
    "        self.worktype=t\n",
    "        self.workarea=a\n",
    "        super().__init__(ID,n,sal)\n",
    "\n",
    "class developer(employee):\n",
    "    def __init__(self,m,t,exp,ID,n,sal):\n",
    "        self.module=m\n",
    "        self.tech=t\n",
    "        self.experience=exp\n",
    "        super().__init__(ID,n,sal)\n",
    "\n",
    "class manager(employee):\n",
    "    def __init__(self,p,c,ID,n,sal):\n",
    "        self.project=p\n",
    "        self.clientname=c\n",
    "        super().__init__(ID,n,sal)\n",
    "\n",
    "\n",
    "ob1=staff(\"norm employee\",\"4th floor\",'SH2004',\"goku\", 500000)\n",
    "ob2=developer('b','h','5yrs','SH2004',\"goku\", 500000)\n",
    "ob3=manager(\"library management system\",\"sunidhi\",'SH2004',\"goku\", 500000)\n",
    "\n",
    "print(\"staff:\",ob1.worktype,ob1.workarea,ob1.ID,ob1.name,ob1.salary)\n",
    "print(\"devloper:\",ob2.module,ob2.tech,ob2.experience,ob2.ID,ob2.name,ob2.salary)\n",
    "print(\"manager:\",ob3.project,ob3.clientname,ob3.ID,ob3.name,ob3.salary)\n",
    "\n"
   ]
  },
  {
   "cell_type": "code",
   "execution_count": 6,
   "id": "53000541-cb4b-482e-8832-fdd2edf8bd16",
   "metadata": {},
   "outputs": [
    {
     "name": "stdout",
     "output_type": "stream",
     "text": [
      "* \n",
      "* * \n",
      "* * * \n",
      "* * * * \n",
      "* * * * * \n"
     ]
    }
   ],
   "source": [
    "def pyramid(n):\n",
    "    for i in range(0,n):\n",
    "       for j in range(0,i+1): \n",
    "           print(\"* \",end =\"\")\n",
    "       print()\n",
    "        \n",
    "pyramid(5)"
   ]
  },
  {
   "cell_type": "code",
   "execution_count": 39,
   "id": "f127f0c9-d79a-45d7-b6b0-578912ff1dab",
   "metadata": {},
   "outputs": [
    {
     "name": "stdout",
     "output_type": "stream",
     "text": [
      "* * * * * * * \n",
      "* * * * * * \n",
      "* * * * * \n",
      "* * * * \n",
      "* * * \n",
      "* * \n",
      "* \n"
     ]
    }
   ],
   "source": [
    "def pyramid(n):\n",
    "    for i in range(n, 0, -1):\n",
    "        for j in range(1, i + 1):\n",
    "            print(\"* \", end=\"\")\n",
    "        print()\n",
    "\n",
    "pyramid(7)"
   ]
  },
  {
   "cell_type": "code",
   "execution_count": 43,
   "id": "88ef1c35-2dc3-4502-820d-955dc7df2c57",
   "metadata": {},
   "outputs": [
    {
     "name": "stdout",
     "output_type": "stream",
     "text": [
      "* * * * * \n",
      "* * * * * \n",
      "* * * * * \n",
      "* * * * * \n",
      "* * * * * \n"
     ]
    }
   ],
   "source": [
    "def pyramid(n):\n",
    "    for i in range(n):\n",
    "        for j in range(n):\n",
    "            print(\"* \", end=\"\")\n",
    "        print()\n",
    "\n",
    "pyramid(5)"
   ]
  },
  {
   "cell_type": "code",
   "execution_count": 2,
   "id": "18ecfbed-5d45-401b-a238-4918f8e550db",
   "metadata": {},
   "outputs": [],
   "source": [
    "def pyramid(n):\n",
    "    for i in range(n, 0, +1):\n",
    "        for j in range(1,i - 1):\n",
    "            print(\"* \", end=\"\")\n",
    "        print()\n",
    "\n",
    "pyramid(7)"
   ]
  },
  {
   "cell_type": "code",
   "execution_count": 11,
   "id": "ac21c645-63cc-453a-ab88-a36bdde66328",
   "metadata": {},
   "outputs": [
    {
     "name": "stdout",
     "output_type": "stream",
     "text": [
      "1 \n",
      "1 2 \n",
      "1 2 3 \n",
      "1 2 3 4 \n",
      "1 2 3 4 5 \n"
     ]
    }
   ],
   "source": [
    "def pyramid(n):\n",
    "    for i in range(1 ,n + 1):\n",
    "        for j in range(1, i + 1):\n",
    "            print(j,end=\" \")\n",
    "        print()\n",
    "\n",
    "pyramid(5)"
   ]
  },
  {
   "cell_type": "code",
   "execution_count": null,
   "id": "e902d592-5bff-4c9d-835b-d2aa8f406038",
   "metadata": {},
   "outputs": [],
   "source": [
    "def cpattern(n):\n",
    "    for i in range(1,n+1):\n",
    "        print(\" \""
   ]
  }
 ],
 "metadata": {
  "kernelspec": {
   "display_name": "Python 3 (ipykernel)",
   "language": "python",
   "name": "python3"
  },
  "language_info": {
   "codemirror_mode": {
    "name": "ipython",
    "version": 3
   },
   "file_extension": ".py",
   "mimetype": "text/x-python",
   "name": "python",
   "nbconvert_exporter": "python",
   "pygments_lexer": "ipython3",
   "version": "3.12.3"
  }
 },
 "nbformat": 4,
 "nbformat_minor": 5
}
