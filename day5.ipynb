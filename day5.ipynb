{
 "cells": [
  {
   "cell_type": "code",
   "execution_count": 3,
   "id": "2df39965-0d1d-406f-80c0-279325bde766",
   "metadata": {},
   "outputs": [
    {
     "name": "stdout",
     "output_type": "stream",
     "text": [
      "this is fun1\n",
      "this is fun2\n",
      "this is fun3\n",
      "this is fun4\n"
     ]
    }
   ],
   "source": [
    "class a:\n",
    "   def fun1(self):\n",
    "        print(\"this is fun1\")\n",
    "   def fun2(self):\n",
    "        print(\"this is fun2\")    \n",
    "class b:\n",
    "    def fun3(self):\n",
    "        print(\"this is fun3\")\n",
    "    def fun4(self):\n",
    "        print(\"this is fun4\")\n",
    "\n",
    "if __name__==\"__main__\":\n",
    "    ob1=a()\n",
    "    ob2=b()\n",
    "\n",
    "    ob1.fun1()\n",
    "    ob1.fun2()\n",
    "    ob2.fun3()\n",
    "    ob2.fun4()"
   ]
  },
  {
   "cell_type": "code",
   "execution_count": 5,
   "id": "e3e54451-6b55-43a0-9833-5daff980b659",
   "metadata": {},
   "outputs": [
    {
     "name": "stdout",
     "output_type": "stream",
     "text": [
      "this is fun1\n",
      "this is fun2\n",
      "this is fun3\n",
      "this is fun4\n",
      "this is fun3\n"
     ]
    }
   ],
   "source": [
    "class a:\n",
    "   def fun1(self):\n",
    "        print(\"this is fun1\")\n",
    "   def fun2(self):\n",
    "        print(\"this is fun2\")    \n",
    "class b:\n",
    "    def fun3(self):\n",
    "        print(\"this is fun3\")\n",
    "    def fun4(self):\n",
    "        print(\"this is fun4\")\n",
    "\n",
    "class c(b):\n",
    "    def fun5(self):\n",
    "        print(\"this is fun5\")\n",
    "    def fun6(self):\n",
    "        print(\"this is fun6\")\n",
    "\n",
    "if __name__==\"__main__\":\n",
    "    ob1=a()\n",
    "    ob2=b()\n",
    "    ob3=c()\n",
    "\n",
    "    ob1.fun1()\n",
    "    ob1.fun2()\n",
    "    ob2.fun3()\n",
    "    ob2.fun4()\n",
    "    ob3.fun3()"
   ]
  },
  {
   "cell_type": "code",
   "execution_count": 6,
   "id": "7ab00fe1-0f14-490f-9a9e-ac0ece17d552",
   "metadata": {},
   "outputs": [
    {
     "name": "stdout",
     "output_type": "stream",
     "text": [
      "this is fun1\n",
      "this is fun2\n",
      "this is fun3\n",
      "this is fun4\n",
      "this is fun3\n",
      "this is fun1\n"
     ]
    }
   ],
   "source": [
    "class a:\n",
    "   def fun1(self):\n",
    "        print(\"this is fun1\")\n",
    "   def fun2(self):\n",
    "        print(\"this is fun2\")    \n",
    "class b:\n",
    "    def fun3(self):\n",
    "        print(\"this is fun3\")\n",
    "    def fun4(self):\n",
    "        print(\"this is fun4\")\n",
    "\n",
    "class c(b,a):\n",
    "    def fun5(self):\n",
    "        print(\"this is fun5\")\n",
    "    def fun6(self):\n",
    "        print(\"this is fun6\")\n",
    "\n",
    "if __name__==\"__main__\":\n",
    "    ob1=a()\n",
    "    ob2=b()\n",
    "    ob3=c()\n",
    "\n",
    "    ob1.fun1()\n",
    "    ob1.fun2()\n",
    "    ob2.fun3()\n",
    "    ob2.fun4()\n",
    "    ob3.fun3()\n",
    "    ob3.fun1()"
   ]
  },
  {
   "cell_type": "code",
   "execution_count": 9,
   "id": "e259dbe8-49b3-42b7-b1ae-e42cdcf71114",
   "metadata": {},
   "outputs": [
    {
     "name": "stdout",
     "output_type": "stream",
     "text": [
      "constructer of a\n"
     ]
    }
   ],
   "source": [
    "class a:\n",
    "    def __init__(self):\n",
    "        print(\"constructer of a\")\n",
    "\n",
    "class b(a):\n",
    "    pass\n",
    "    #def __init__(self):\n",
    "        #print(\"constructer of b\")\n",
    "\n",
    "class c:\n",
    "    def __init__(self):\n",
    "        print(\"constructer of c\")\n",
    "\n",
    "class d:\n",
    "    def __init__(self):\n",
    "        print(\"constructer of d\")\n",
    "\n",
    "if __name__==\"__main__\":\n",
    "    ob1=b()\n"
   ]
  },
  {
   "cell_type": "code",
   "execution_count": 11,
   "id": "8804594b-f81f-4fad-8fda-cfc7ca4c0850",
   "metadata": {},
   "outputs": [
    {
     "name": "stdout",
     "output_type": "stream",
     "text": [
      "constructer of c\n"
     ]
    }
   ],
   "source": [
    "class a:\n",
    "    def __init__(s):\n",
    "        print(\"constructer of a\")\n",
    "\n",
    "class b:\n",
    "    def __init__(s):\n",
    "        print(\"constructer of b\")\n",
    "\n",
    "class c(a,b):\n",
    "    def __init__(s):\n",
    "        print(\"constructer of c\")\n",
    "\n",
    "class d:\n",
    "    def __init__(s):\n",
    "        print(\"constructer of d\")\n",
    "\n",
    "if __name__==\"__main__\":\n",
    "    ob1=c()\n"
   ]
  },
  {
   "cell_type": "code",
   "execution_count": 14,
   "id": "3c8adf9c-a449-449f-82ce-d87216296fa5",
   "metadata": {},
   "outputs": [
    {
     "name": "stdout",
     "output_type": "stream",
     "text": [
      "constructer of class c\n",
      "fun of class c with  1 5\n",
      "fun of class c with  1 2\n"
     ]
    }
   ],
   "source": [
    "#default parameter\n",
    "class c:\n",
    "    def __init__(self):\n",
    "        print(\"constructer of class c\")\n",
    "    def abc(self,a,b=5):\n",
    "        print(\"fun of class c with \",a,b)\n",
    "   \n",
    "ob=c()\n",
    "ob.abc(1)\n",
    "ob.abc(1,2)"
   ]
  },
  {
   "cell_type": "code",
   "execution_count": 18,
   "id": "76f32a1b-77fe-47d0-a915-dc2343cefbea",
   "metadata": {},
   "outputs": [
    {
     "name": "stdout",
     "output_type": "stream",
     "text": [
      "constructer of class c 1\n",
      "1 8\n"
     ]
    }
   ],
   "source": [
    "#default parameter\n",
    "class c:\n",
    "    def __init__(self,a,b=8):\n",
    "        print(\"constructer of class c\",a)\n",
    "        self.x=a\n",
    "        self.y=b=\n",
    "        print(self.x,self.y)\n",
    "\n",
    "ob=c(1)"
   ]
  },
  {
   "cell_type": "code",
   "execution_count": 19,
   "id": "2b83f3c9-b49f-4cab-a7dd-12a5d5bf7d8b",
   "metadata": {},
   "outputs": [
    {
     "name": "stdout",
     "output_type": "stream",
     "text": [
      "constructer of class c 7\n",
      "7 8\n"
     ]
    }
   ],
   "source": [
    "#method overloading\n",
    "class c:\n",
    "    def __init__(self,a=7,b=8):\n",
    "        print(\"constructer of class c\",a)\n",
    "        self.x=a\n",
    "        self.y=b\n",
    "        print(self.x,self.y)\n",
    "\n",
    "ob=c()"
   ]
  },
  {
   "cell_type": "markdown",
   "id": "d461a0fe-166d-4c8a-bbba-72841a5035ae",
   "metadata": {},
   "source": [
    "laptop class\n",
    "processor \n",
    "\n",
    "\n",
    "\n",
    "prof laptp\n",
    "batery backup\n",
    "\n",
    "\n",
    "gaming laptop\n",
    "graphic cmd\n"
   ]
  },
  {
   "cell_type": "code",
   "execution_count": 2,
   "id": "2e9082b0-aae7-4c2e-a78f-ad15794bfa5c",
   "metadata": {},
   "outputs": [],
   "source": [
    "class a:\n",
    "    def _init_(self):\n",
    "        print(\"constructor of class a\")\n",
    "    def show(self):\n",
    "        print(\"printing the show of a\")\n",
    "\n",
    "class b:\n",
    "    def _init_(self):\n",
    "        print(\"constructor of class b\")\n",
    "    def show(self):\n",
    "        print(\"printing the show of b\")\n",
    "        \n",
    "class c(a):\n",
    "    def _init_(self):\n",
    "        print(\"constructor of class c\")\n",
    "    def show(self):\n",
    "        print(\"printing the show of c\")\n",
    "        super().show()\n",
    "\n",
    "class d:\n",
    "    def _init_(self):\n",
    "        print(\"constructor of class d\")\n",
    "    def show(self):\n",
    "        print(\"printing the show of d\")\n",
    "\n",
    "if __name__==\"main_\":\n",
    "    ob1=a()"
   ]
  },
  {
   "cell_type": "code",
   "execution_count": 12,
   "id": "702f793e-3e7e-4d45-89ad-d9b050943019",
   "metadata": {},
   "outputs": [
    {
     "ename": "TypeError",
     "evalue": "object.__init__() takes exactly one argument (the instance to initialize)",
     "output_type": "error",
     "traceback": [
      "\u001b[1;31m---------------------------------------------------------------------------\u001b[0m",
      "\u001b[1;31mTypeError\u001b[0m                                 Traceback (most recent call last)",
      "Cell \u001b[1;32mIn[12], line 17\u001b[0m\n\u001b[0;32m     14\u001b[0m         \u001b[38;5;28mself\u001b[39m\u001b[38;5;241m.\u001b[39mgraphic\u001b[38;5;241m=\u001b[39mgraph\n\u001b[0;32m     15\u001b[0m         \u001b[38;5;28msuper\u001b[39m()\u001b[38;5;241m.\u001b[39m\u001b[38;5;21m__init__\u001b[39m(bat,p,r,s)\n\u001b[1;32m---> 17\u001b[0m pro1\u001b[38;5;241m=\u001b[39m\u001b[43mprof_laptop\u001b[49m\u001b[43m(\u001b[49m\u001b[38;5;124;43m\"\u001b[39;49m\u001b[38;5;124;43m6hrs\u001b[39;49m\u001b[38;5;124;43m\"\u001b[39;49m\u001b[43m,\u001b[49m\u001b[38;5;124;43m\"\u001b[39;49m\u001b[38;5;124;43mi5\u001b[39;49m\u001b[38;5;124;43m\"\u001b[39;49m\u001b[43m,\u001b[49m\u001b[38;5;241;43m8\u001b[39;49m\u001b[43m,\u001b[49m\u001b[38;5;241;43m512\u001b[39;49m\u001b[43m)\u001b[49m\n\u001b[0;32m     19\u001b[0m gam1\u001b[38;5;241m=\u001b[39mgaming(\u001b[38;5;124m\"\u001b[39m\u001b[38;5;124mi5\u001b[39m\u001b[38;5;124m\"\u001b[39m,\u001b[38;5;241m8\u001b[39m,\u001b[38;5;241m512\u001b[39m,\u001b[38;5;241m2\u001b[39m)\n\u001b[0;32m     21\u001b[0m \u001b[38;5;28mprint\u001b[39m(\u001b[38;5;124m\"\u001b[39m\u001b[38;5;124mprofessial laptop having\u001b[39m\u001b[38;5;124m\"\u001b[39m,pro1\u001b[38;5;241m.\u001b[39mbattery,pro1\u001b[38;5;241m.\u001b[39mprocessor,pro1\u001b[38;5;241m.\u001b[39mstorage,pro1\u001b[38;5;241m.\u001b[39mram)\n",
      "Cell \u001b[1;32mIn[12], line 10\u001b[0m, in \u001b[0;36mprof_laptop.__init__\u001b[1;34m(self, bat, p, r, s)\u001b[0m\n\u001b[0;32m      8\u001b[0m \u001b[38;5;28;01mdef\u001b[39;00m \u001b[38;5;21m__init__\u001b[39m(\u001b[38;5;28mself\u001b[39m,bat,p,r,s):\n\u001b[0;32m      9\u001b[0m     \u001b[38;5;28mself\u001b[39m\u001b[38;5;241m.\u001b[39mbattery\u001b[38;5;241m=\u001b[39mbat\n\u001b[1;32m---> 10\u001b[0m     \u001b[38;5;28;43msuper\u001b[39;49m\u001b[43m(\u001b[49m\u001b[43m)\u001b[49m\u001b[38;5;241;43m.\u001b[39;49m\u001b[38;5;21;43m__init__\u001b[39;49m\u001b[43m(\u001b[49m\u001b[43mp\u001b[49m\u001b[43m,\u001b[49m\u001b[43mr\u001b[49m\u001b[43m,\u001b[49m\u001b[43ms\u001b[49m\u001b[43m)\u001b[49m\n",
      "\u001b[1;31mTypeError\u001b[0m: object.__init__() takes exactly one argument (the instance to initialize)"
     ]
    }
   ],
   "source": [
    "class laptop:#super class\n",
    "    def __intit__(self,p,r,s):\n",
    "        self.processor=b\n",
    "        self.ram=r\n",
    "        self.storage=s\n",
    "        \n",
    "class prof_laptop(laptop):\n",
    "    def __init__(self,bat,p,r,s):\n",
    "        self.battery=bat\n",
    "        super().__init__(p,r,s)\n",
    "\n",
    "class gaming_laptop(laptop):\n",
    "    def __init__(self,graph,p,r,s):\n",
    "        self.graphic=graph\n",
    "        super().__init__(bat,p,r,s)\n",
    "\n",
    "pro1=prof_laptop(\"6hrs\",\"i5\",8,512)\n",
    "\n",
    "gam1=gaming(\"i5\",8,512,2)\n",
    "\n",
    "print(\"professial laptop having\",pro1.battery,pro1.processor,pro1.storage,pro1.ram)\n",
    "print(\"gaming laptop having\",gam1.processor,gam1.ram,gam1.storage,gam1.graphic)\n",
    "        \n",
    "        "
   ]
  },
  {
   "cell_type": "code",
   "execution_count": 18,
   "id": "e4ef47fc-5f46-4e02-9c56-d499496960cd",
   "metadata": {},
   "outputs": [
    {
     "name": "stdout",
     "output_type": "stream",
     "text": [
      "booking charges 3 2\n"
     ]
    }
   ],
   "source": [
    "class ticket:\n",
    "    def __init__(self,r,d=2):\n",
    "        print(\"booking charges\",r,d)\n",
    "        self.ruppee=r\n",
    "        self.distance=d\n",
    "    def __int__(self,d=2,ac=4,fc=5):\n",
    "        print(\"slepper charges\",d,ac,fc)\n",
    "        self.distance=d\n",
    "        self.accharges=ac\n",
    "        self.firstclasscharges=fc\n",
    "\n"
   ]
  },
  {
   "cell_type": "code",
   "execution_count": 21,
   "id": "5e4616be-af5a-413e-b1a5-855e17d5498c",
   "metadata": {},
   "outputs": [
    {
     "name": "stdout",
     "output_type": "stream",
     "text": [
      "Professional laptop specifications: 8hr i9 8 512\n",
      "Gaming laptop specifications: 9 i7 16 512\n"
     ]
    }
   ],
   "source": [
    "class laptop:\n",
    "    def __init__(self, p, r, s):\n",
    "        self.processor = p\n",
    "        self.ram = r\n",
    "        self.storage = s\n",
    "          \n",
    "\n",
    "class professional(laptop):\n",
    "    def __init__(self, bat, p, r, s):\n",
    "        self.batterybackup = bat\n",
    "        super().__init__(p, r, s)\n",
    "\n",
    "   \n",
    "class gaming(laptop):\n",
    "    def __init__(self, graphic, p, r, s):\n",
    "        self.graphiccard = graphic\n",
    "        super().__init__(p, r, s)\n",
    "        \n",
    "obj2 = professional('8hr', 'i9', 8, 512)\n",
    "obj3 = gaming(\"9\", 'i7', '16', 512)\n",
    "\n",
    "print(\"Professional laptop specifications:\", obj2.batterybackup, obj2.processor, obj2.ram, obj2.storage)\n",
    "print(\"Gaming laptop specifications:\", obj3.graphiccard, obj3.processor, obj3.ram, obj3.storage)"
   ]
  },
  {
   "cell_type": "code",
   "execution_count": 25,
   "id": "05d94fa7-aca8-4cb7-bbdb-03b2a5d94395",
   "metadata": {},
   "outputs": [
    {
     "name": "stdout",
     "output_type": "stream",
     "text": [
      "Ticket booked Fare Price will be:  9150\n"
     ]
    }
   ],
   "source": [
    "class ticket:\n",
    "   \n",
    "    def __init__(self,D):\n",
    "        self.distance = int(D)\n",
    "        self.farePrice = None\n",
    "\n",
    "class gen(ticket):\n",
    "    def __init__(self,D):\n",
    "        super().__init__(D)\n",
    "    def print_ticket(self):\n",
    "        self.farePrice=50+(self.distance*2)\n",
    "        return self.farePrice\n",
    "        \n",
    "\n",
    "\n",
    "class slp(gen):\n",
    "    def __init__(self,D):\n",
    "        super().__init__(D)\n",
    "\n",
    "    def print_ticket(self):\n",
    "        self.farePrice=super().print_ticket()+(2*self.distance)\n",
    "        return self.farePrice\n",
    "\n",
    "class AC(slp):\n",
    "    def __init__(self,D):\n",
    "        super().__init__(D)\n",
    "    def print_ticket(self):\n",
    "        self.farePrice=super().print_ticket()+(4*self.distance)\n",
    "        return self.farePrice\n",
    "\n",
    "class FC(AC):\n",
    "    def __init__(self,D):\n",
    "        super().__init__(D)\n",
    "    def print_ticket(self):\n",
    "        self.farePrice=super().print_ticket()+(5*self.distance)\n",
    "        return self.farePrice\n",
    "\n",
    "\n",
    "jur = FC(700)\n",
    "print(\"Ticket booked Fare Price will be: \",jur.print_ticket())"
   ]
  },
  {
   "cell_type": "code",
   "execution_count": 2,
   "id": "b977b41c-d1c7-451f-86ef-db19414ab279",
   "metadata": {},
   "outputs": [
    {
     "name": "stdout",
     "output_type": "stream",
     "text": [
      "the marks of the student: \n",
      "Subject 1:  100\n",
      "Subject 2:  85\n",
      "Subject 3:  90\n",
      "Subject 4:  87\n",
      "Subject 5:  83\n",
      "Average of the Marks =  89.0\n"
     ]
    }
   ],
   "source": [
    "class student:\n",
    "    def __init__(self,marks1,marks2,marks3,marks4,marks5):\n",
    "\n",
    "        self.s1 = marks1\n",
    "        self.s2 = marks2\n",
    "        self.s3 = marks3\n",
    "        self.s4 = marks4\n",
    "        self.s5 = marks5\n",
    "\n",
    "    def marksheet(self):\n",
    "        print(\"the marks of the student: \")\n",
    "\n",
    "        print(\"Subject 1: \",self.s1)\n",
    "        print(\"Subject 2: \",self.s2)\n",
    "        print(\"Subject 3: \",self.s3)\n",
    "        print(\"Subject 4: \",self.s4)\n",
    "        print(\"Subject 5: \",self.s5)\n",
    "\n",
    "        print(\"Average of the Marks = \",(self.s1+self.s2+self.s3+self.s4+self.s5)/5)\n",
    "             \n",
    "if __name__==\"__main__\":\n",
    "      student1=student(100,85,90,87,83)\n",
    "      student1.marksheet()"
   ]
  },
  {
   "cell_type": "code",
   "execution_count": 1,
   "id": "73e55549-3e6d-4395-8c23-ae2997123055",
   "metadata": {},
   "outputs": [
    {
     "name": "stdout",
     "output_type": "stream",
     "text": [
      "configuration of the laptop is: \n",
      "processor i5\n",
      "Ram 8\n",
      "storage 512\n"
     ]
    }
   ],
   "source": [
    "class laptop:\n",
    "    def __init__(self,p,r,s):\n",
    "        self.processor=p\n",
    "        self.ram=r\n",
    "        self.storage=s\n",
    "\n",
    "    def config(self):\n",
    "        print(\"configuration of the laptop is: \")\n",
    "        print(\"processor\",self.processor)\n",
    "        print(\"Ram\",self.ram)\n",
    "        print(\"storage\",self.storage)\n",
    "\n",
    "if __name__==\"__main__\":\n",
    "    hp = laptop(\"i5\",8,512)\n",
    "    hp.config()"
   ]
  },
  {
   "cell_type": "code",
   "execution_count": null,
   "id": "67135c6a-9590-42a0-9395-734caf45238a",
   "metadata": {},
   "outputs": [],
   "source": []
  }
 ],
 "metadata": {
  "kernelspec": {
   "display_name": "Python 3 (ipykernel)",
   "language": "python",
   "name": "python3"
  },
  "language_info": {
   "codemirror_mode": {
    "name": "ipython",
    "version": 3
   },
   "file_extension": ".py",
   "mimetype": "text/x-python",
   "name": "python",
   "nbconvert_exporter": "python",
   "pygments_lexer": "ipython3",
   "version": "3.12.3"
  }
 },
 "nbformat": 4,
 "nbformat_minor": 5
}
