{
 "cells": [
  {
   "cell_type": "code",
   "execution_count": 1,
   "id": "463fc893-9027-42bf-b56c-c7f6546bbc3c",
   "metadata": {},
   "outputs": [
    {
     "name": "stdout",
     "output_type": "stream",
     "text": [
      "aolla\n"
     ]
    }
   ],
   "source": [
    "print(\"aolla\")"
   ]
  },
  {
   "cell_type": "code",
   "execution_count": 11,
   "id": "bd894d10-e031-4f2d-94dd-cc6d77180262",
   "metadata": {},
   "outputs": [
    {
     "name": "stdout",
     "output_type": "stream",
     "text": [
      "55\n",
      "<class 'int'>\n",
      "5.5\n",
      "<class 'float'>\n",
      "(4, 7, 0, 9)\n",
      "<class 'tuple'>\n",
      "{1: 5}\n",
      "<class 'dict'>\n",
      "[4, 7, 7]\n",
      "<class 'list'>\n",
      "yoo\n",
      "<class 'str'>\n",
      "d\n",
      "<class 'str'>\n",
      "range(7, 8)\n",
      "<class 'range'>\n"
     ]
    }
   ],
   "source": [
    "\n",
    "a=55\n",
    "print(a)\n",
    "print(type(a))\n",
    "\n",
    "a=5.5\n",
    "print(a)\n",
    "print(type(a))\n",
    "\n",
    "a=(4,7,0,9)\n",
    "print(a)\n",
    "print(type(a))\n",
    "\n",
    "a={1:5}\n",
    "print(a)\n",
    "print(type(a))\n",
    "a=[4,7,7]\n",
    "print(a)\n",
    "print(type(a))\n",
    "\n",
    "a=\"yoo\"\n",
    "print(a)\n",
    "print(type(a))\n",
    "\n",
    "a='d'\n",
    "print(a)\n",
    "print(type(a))\n",
    "\n",
    "a=range(7,8)\n",
    "print(a)\n",
    "print(type(a))\n",
    "\n",
    "\n",
    "\n",
    "\n"
   ]
  },
  {
   "cell_type": "code",
   "execution_count": 17,
   "id": "7d9bf979-e3f6-451e-8177-7f04b6978508",
   "metadata": {},
   "outputs": [
    {
     "name": "stdout",
     "output_type": "stream",
     "text": [
      "zzzz rrrr ooooo\n",
      "zzzzrrrrooooo\n"
     ]
    }
   ],
   "source": [
    "a=\"zzzz\"\n",
    "b=\"rrrr\"\n",
    "c=\"ooooo\"\n",
    "print(a,b,c)\n",
    "print(a+b+c)"
   ]
  },
  {
   "cell_type": "code",
   "execution_count": 18,
   "id": "f07fd06b-0479-43e6-938f-8382b8dd7216",
   "metadata": {},
   "outputs": [
    {
     "name": "stdout",
     "output_type": "stream",
     "text": [
      "122\n",
      "122\n",
      "122\n"
     ]
    }
   ],
   "source": [
    "a=b=c=122\n",
    "print(a)\n",
    "print(b)\n",
    "print(c)"
   ]
  },
  {
   "cell_type": "code",
   "execution_count": null,
   "id": "ff3f3688-3fb9-41e2-92f6-c46cf2826353",
   "metadata": {},
   "outputs": [],
   "source": []
  },
  {
   "cell_type": "code",
   "execution_count": 19,
   "id": "2e9224d9-f60f-4472-9a02-1d5a0b659584",
   "metadata": {},
   "outputs": [
    {
     "name": "stdin",
     "output_type": "stream",
     "text": [
      " 5\n"
     ]
    },
    {
     "name": "stdout",
     "output_type": "stream",
     "text": [
      "5\n",
      "<class 'str'>\n"
     ]
    }
   ],
   "source": [
    "a=input()\n",
    "print(a)\n",
    "print(type(a))"
   ]
  },
  {
   "cell_type": "code",
   "execution_count": 20,
   "id": "4863f5d3-ea51-45ff-9c84-600a958ea79d",
   "metadata": {},
   "outputs": [
    {
     "name": "stdin",
     "output_type": "stream",
     "text": [
      " 2\n",
      " 7\n"
     ]
    },
    {
     "name": "stdout",
     "output_type": "stream",
     "text": [
      "27\n",
      "<class 'str'>\n",
      "<class 'str'>\n",
      "<class 'str'>\n"
     ]
    }
   ],
   "source": [
    "a=input()\n",
    "b=input()\n",
    "c=a+b\n",
    "print(c)\n",
    "print(type(a))\n",
    "print(type(b))\n",
    "print(type(c))"
   ]
  },
  {
   "cell_type": "code",
   "execution_count": 21,
   "id": "b5964571-f473-4478-8262-2222cd4d13de",
   "metadata": {},
   "outputs": [
    {
     "name": "stdin",
     "output_type": "stream",
     "text": [
      " 5\n",
      " 8\n"
     ]
    },
    {
     "name": "stdout",
     "output_type": "stream",
     "text": [
      "13\n",
      "<class 'int'>\n",
      "<class 'int'>\n",
      "<class 'int'>\n"
     ]
    }
   ],
   "source": [
    "a=int(input())\n",
    "b=int(input())\n",
    "c=a+b\n",
    "print(c)\n",
    "print(type(a))\n",
    "print(type(b))\n",
    "print(type(c))"
   ]
  },
  {
   "cell_type": "code",
   "execution_count": 23,
   "id": "774e5e13-b805-48db-81cb-4924a224155c",
   "metadata": {},
   "outputs": [
    {
     "name": "stdin",
     "output_type": "stream",
     "text": [
      "enter the number 6\n",
      "enter number 8\n"
     ]
    },
    {
     "name": "stdout",
     "output_type": "stream",
     "text": [
      "68\n"
     ]
    }
   ],
   "source": [
    "a=input(\"enter the number\")\n",
    "b=input(\"enter number\")\n",
    "c=a+b\n",
    "print(c)"
   ]
  },
  {
   "cell_type": "code",
   "execution_count": 22,
   "id": "5e8a8c2f-6ff9-4ba8-8a18-42355c6c1cde",
   "metadata": {},
   "outputs": [
    {
     "name": "stdin",
     "output_type": "stream",
     "text": [
      "hajimaste 5\n",
      "saki 7\n"
     ]
    },
    {
     "name": "stdout",
     "output_type": "stream",
     "text": [
      "12\n"
     ]
    }
   ],
   "source": [
    "a=int(input(\"hajimaste\"))\n",
    "b=int(input(\"saki\"))\n",
    "c=a+b\n",
    "print(c)"
   ]
  },
  {
   "cell_type": "markdown",
   "id": "94749725-c7db-4b2d-bc0e-e81e73ec11e9",
   "metadata": {},
   "source": [
    "a,b,c=input(\"enter the no\").spilt()\n",
    "d=a+b+c\n",
    "print(d)"
   ]
  },
  {
   "cell_type": "code",
   "execution_count": 1,
   "id": "6b899860-8ec7-40d0-a48e-bccea7b9def5",
   "metadata": {},
   "outputs": [
    {
     "name": "stdin",
     "output_type": "stream",
     "text": [
      "enter three no 6 8 4\n"
     ]
    },
    {
     "name": "stdout",
     "output_type": "stream",
     "text": [
      "684\n"
     ]
    }
   ],
   "source": [
    "a,b,c=input(\"enter three no\").split()\n",
    "d=a+b+c\n",
    "print(d)"
   ]
  },
  {
   "cell_type": "code",
   "execution_count": 15,
   "id": "bb107ee0-6bb4-4f01-b1ae-608cbf20d7b0",
   "metadata": {},
   "outputs": [
    {
     "name": "stdin",
     "output_type": "stream",
     "text": [
      "enter three no: 9 8 7\n"
     ]
    },
    {
     "name": "stdout",
     "output_type": "stream",
     "text": [
      "['9', '8', '7', '9', '8', '7', '9', '8', '7']\n"
     ]
    }
   ],
   "source": [
    "a=b=c=input(\"enter three no:\").split()\n",
    "\n",
    "\n",
    "d=a+b+c\n",
    "print(d)"
   ]
  },
  {
   "cell_type": "code",
   "execution_count": 4,
   "id": "bf7fe0f8-e7e2-4a0a-ada9-665051065e7e",
   "metadata": {},
   "outputs": [
    {
     "name": "stdin",
     "output_type": "stream",
     "text": [
      "enter the name: kai\n",
      "enter the age 56\n"
     ]
    },
    {
     "name": "stdout",
     "output_type": "stream",
     "text": [
      "kai\n",
      "cadidate is elegible\n"
     ]
    }
   ],
   "source": [
    "name =input(\"enter the name:\")\n",
    "age =int(input(\"enter the age\"))\n",
    "\n",
    "\n",
    "if age>=18:\n",
    "        print(name)\n",
    "        print(\"cadidate is elegible\")\n",
    "else:\n",
    "         print(name)\n",
    "         print(\"cadidate is not elegible\") \n",
    "         \n",
    "     "
   ]
  },
  {
   "cell_type": "code",
   "execution_count": 7,
   "id": "799540f2-9e8c-4d9b-80a4-b1e119d2bdd4",
   "metadata": {},
   "outputs": [
    {
     "name": "stdin",
     "output_type": "stream",
     "text": [
      "enter the name kazu\n",
      "enter the weight of the person: 49\n"
     ]
    },
    {
     "name": "stdout",
     "output_type": "stream",
     "text": [
      "kazu\n",
      "cadidate can donate the blood\n"
     ]
    }
   ],
   "source": [
    "name =input(\"enter the name\")\n",
    "weight=int(input(\"enter the weight of the person:\"))\n",
    "           \n",
    "if weight<=50:\n",
    "           print(name)\n",
    "           print(\"cadidate can donate the blood\")\n",
    "else:\n",
    "     print(name)\n",
    "     print(\"cadidate can not donate the blood\")"
   ]
  },
  {
   "cell_type": "code",
   "execution_count": 11,
   "id": "e8a1a06c-ace0-4442-a854-b4084b32f627",
   "metadata": {},
   "outputs": [
    {
     "name": "stdin",
     "output_type": "stream",
     "text": [
      "enter the first number: 8\n",
      "enter the second number: 9\n"
     ]
    },
    {
     "name": "stdout",
     "output_type": "stream",
     "text": [
      "it is not greater:\n"
     ]
    }
   ],
   "source": [
    "num1=int(input(\"enter the first number:\"))\n",
    "num2=int(input(\"enter the second number:\"))\n",
    "\n",
    "if num1>num2:\n",
    "    print(\"it is greater\")\n",
    "else:\n",
    "    print(\"it is not greater\")"
   ]
  },
  {
   "cell_type": "code",
   "execution_count": 12,
   "id": "c1325510-aeac-4d4e-8e54-d3091e1016c5",
   "metadata": {},
   "outputs": [
    {
     "name": "stdin",
     "output_type": "stream",
     "text": [
      " 4\n",
      " 9\n",
      " 7\n"
     ]
    },
    {
     "name": "stdout",
     "output_type": "stream",
     "text": [
      "b is greater\n"
     ]
    }
   ],
   "source": [
    "a=int(input())\n",
    "b=int(input())\n",
    "c=int(input())\n",
    "\n",
    "if a>b:\n",
    "    if a>c:\n",
    "     print(\"a is greater\")\n",
    "    else:\n",
    "     print(\"c is greater\")\n",
    "else:\n",
    "    if b>c:\n",
    "        print(\"b is greater\")\n",
    "    else:\n",
    "        print(\"c is greater\")\n",
    "    "
   ]
  },
  {
   "cell_type": "code",
   "execution_count": 37,
   "id": "08321968-7124-4682-a808-897339239db4",
   "metadata": {},
   "outputs": [
    {
     "name": "stdin",
     "output_type": "stream",
     "text": [
      "enter the marks: 101\n"
     ]
    },
    {
     "name": "stdout",
     "output_type": "stream",
     "text": [
      "invalid choice\n"
     ]
    }
   ],
   "source": [
    "marks= int(input(\"enter the marks:\"))\n",
    "if marks>=90 and marks<=100:\n",
    "    print(\"grade =A+\")\n",
    "else:\n",
    "    if marks>=80 and marks<=90:\n",
    "        print(\"grade =A\")\n",
    "    else: \n",
    "         if marks>=70 and marks<=80:\n",
    "              print(\"grade =B+\")\n",
    "         else:\n",
    "              if marks>=60 and marks<=70:\n",
    "                  print(\"grade =B\")\n",
    "              else: \n",
    "                     if marks>=50 and marks<=60:\n",
    "                       print(\"grade =C\")\n",
    "                     else:\n",
    "                         if marks>=40 and marks<=50:\n",
    "                           print(\"grade =D\")\n",
    "                         else:\n",
    "                            if marks>=30 and marks<=40:\n",
    "                                 print(\"grade =E\")\n",
    "                            else:\n",
    "                                if marks>=0 and marks<=30:\n",
    "                                      print(\"grade =F\")\n",
    "                                else:\n",
    "                                        print(\"invalid choice\")\n",
    "                   \n",
    "                   \n",
    "                   \n",
    "                   \n",
    "                   "
   ]
  },
  {
   "cell_type": "code",
   "execution_count": 39,
   "id": "0292e402-4804-4d8e-80f0-891c28c19a0c",
   "metadata": {},
   "outputs": [
    {
     "name": "stdin",
     "output_type": "stream",
     "text": [
      "enter the subject name 5\n"
     ]
    },
    {
     "name": "stdout",
     "output_type": "stream",
     "text": [
      "social\n"
     ]
    }
   ],
   "source": [
    "sub=int(input(\"enter the subject name\"))\n",
    "\n",
    "match sub:\n",
    "    case 1:print(\"english\")\n",
    "    case 2:print(\"hindi\")\n",
    "    case 3:print(\"kannada\")\n",
    "    case 4:print(\"maths\")\n",
    "    case 5:print(\"social\")\n",
    "    case _:print(\"invaild no\")"
   ]
  },
  {
   "cell_type": "code",
   "execution_count": 41,
   "id": "cf6377a6-7f22-4ca9-bef5-87af860e80c0",
   "metadata": {},
   "outputs": [
    {
     "name": "stdin",
     "output_type": "stream",
     "text": [
      "enter the subject name 19\n"
     ]
    },
    {
     "name": "stdout",
     "output_type": "stream",
     "text": [
      "invaid no\n"
     ]
    }
   ],
   "source": [
    "sub=int(input(\"enter the subject name\"))\n",
    "\n",
    "match sub:\n",
    "    case 1:print(\"english\")\n",
    "    case 2:print(\"hindi\")\n",
    "    case 3:print(\"kannada\")\n",
    "    case 4:print(\"maths\")\n",
    "    case 5:print(\"social\")\n",
    "    case _ if sub ==6:\n",
    "        print(\"c\")\n",
    "    case _ if sub ==8:\n",
    "        print(\"c++\")\n",
    "    case _ if sub>9 and sub<18:\n",
    "        print(\"java\")\n",
    "    case _ if sub ==19:\n",
    "       print(\"invaid no\")"
   ]
  },
  {
   "cell_type": "code",
   "execution_count": 45,
   "id": "f54c37cb-1505-47fd-9ae2-628aca8c1566",
   "metadata": {},
   "outputs": [
    {
     "name": "stdout",
     "output_type": "stream",
     "text": [
      "0\n",
      "1\n",
      "2\n",
      "3\n",
      "4\n",
      "5\n",
      "6\n",
      "7\n",
      "8\n",
      "9\n"
     ]
    }
   ],
   "source": [
    "for y in range(0,10):\n",
    "    print(y)\n",
    "    y=y+1"
   ]
  },
  {
   "cell_type": "code",
   "execution_count": 7,
   "id": "db9e45b3-51d7-445e-b528-7df4670d535f",
   "metadata": {},
   "outputs": [
    {
     "name": "stdout",
     "output_type": "stream",
     "text": [
      "*\n",
      "**\n",
      "***\n",
      "****\n",
      "*****\n"
     ]
    }
   ],
   "source": [
    "for i in range(0,5):\n",
    "    for y in range(0,i+1):\n",
    "        print(\"*\",end=\"\")\n",
    "    print()       "
   ]
  },
  {
   "cell_type": "code",
   "execution_count": 11,
   "id": "74d43b79-6d33-430d-97aa-b62a0e35dc1c",
   "metadata": {},
   "outputs": [
    {
     "name": "stdin",
     "output_type": "stream",
     "text": [
      "enter the length of the series 5\n"
     ]
    },
    {
     "name": "stdout",
     "output_type": "stream",
     "text": [
      "0 1 1 2 3 "
     ]
    }
   ],
   "source": [
    "a=0\n",
    "b=1\n",
    "n=int (input(\"enter the length of the series\"))\n",
    "print(a,b,end=\" \")\n",
    "for y in range(0,n-2):\n",
    "    c=a+b\n",
    "    print(c,end=\" \")\n",
    "    a=b\n",
    "    b=c\n",
    "\n"
   ]
  },
  {
   "cell_type": "code",
   "execution_count": 12,
   "id": "9fa1471a-fa81-48c1-99f5-eec582a2ca73",
   "metadata": {},
   "outputs": [
    {
     "name": "stdin",
     "output_type": "stream",
     "text": [
      " 7 \n",
      " 9\n"
     ]
    },
    {
     "name": "stdout",
     "output_type": "stream",
     "text": [
      "16\n",
      "14\n"
     ]
    }
   ],
   "source": [
    "def abcd(a,b=7):\n",
    "    c=a+b\n",
    "    print(c)\n",
    "    return\n",
    "\n",
    "A=int(input())\n",
    "B=int(input())\n",
    "\n",
    "abcd(A,B)\n",
    "abcd(A)"
   ]
  },
  {
   "cell_type": "code",
   "execution_count": 13,
   "id": "eb000a01-829a-4f5d-b92d-11c728ce9c1f",
   "metadata": {},
   "outputs": [
    {
     "name": "stdin",
     "output_type": "stream",
     "text": [
      " 7\n",
      " 9\n"
     ]
    },
    {
     "data": {
      "text/plain": [
       "16"
      ]
     },
     "execution_count": 13,
     "metadata": {},
     "output_type": "execute_result"
    }
   ],
   "source": [
    "def abcd(a,b=7):\n",
    "    c=a+b\n",
    "    return c\n",
    "\n",
    "A=int(input())\n",
    "B=int(input())\n",
    "\n",
    "abcd(A,B)"
   ]
  },
  {
   "cell_type": "code",
   "execution_count": 16,
   "id": "b1fb0e44-ca98-4829-b723-5a382f6b17fd",
   "metadata": {},
   "outputs": [
    {
     "name": "stdin",
     "output_type": "stream",
     "text": [
      "Enter a number:  2 3 4 5\n"
     ]
    },
    {
     "ename": "ValueError",
     "evalue": "invalid literal for int() with base 10: '2 3 4 5'",
     "output_type": "error",
     "traceback": [
      "\u001b[1;31m---------------------------------------------------------------------------\u001b[0m",
      "\u001b[1;31mValueError\u001b[0m                                Traceback (most recent call last)",
      "Cell \u001b[1;32mIn[16], line 1\u001b[0m\n\u001b[1;32m----> 1\u001b[0m num \u001b[38;5;241m=\u001b[39m \u001b[38;5;28;43mint\u001b[39;49m\u001b[43m(\u001b[49m\u001b[38;5;28;43minput\u001b[39;49m\u001b[43m(\u001b[49m\u001b[38;5;124;43m\"\u001b[39;49m\u001b[38;5;124;43mEnter a number: \u001b[39;49m\u001b[38;5;124;43m\"\u001b[39;49m\u001b[43m)\u001b[49m\u001b[43m)\u001b[49m\n\u001b[0;32m      2\u001b[0m reversed_num \u001b[38;5;241m=\u001b[39m \u001b[38;5;241m0\u001b[39m\n\u001b[0;32m      4\u001b[0m \u001b[38;5;28;01mwhile\u001b[39;00m num \u001b[38;5;241m>\u001b[39m \u001b[38;5;241m0\u001b[39m:\n",
      "\u001b[1;31mValueError\u001b[0m: invalid literal for int() with base 10: '2 3 4 5'"
     ]
    }
   ],
   "source": [
    "num = int(input(\"Enter a number: \"))\n",
    "reversed_num = 0\n",
    "\n",
    "while num > 0:\n",
    "    rem = num % 10\n",
    "    reversed_num = reversed_num * 10 + rem\n",
    "    num //= 10\n",
    "\n",
    "print(\"Reversed number:\", reversed_num)"
   ]
  },
  {
   "cell_type": "code",
   "execution_count": 28,
   "id": "511823e8-3ccd-4fef-a9a6-e67407fed168",
   "metadata": {},
   "outputs": [
    {
     "name": "stdin",
     "output_type": "stream",
     "text": [
      "enter a number 5\n"
     ]
    },
    {
     "name": "stdout",
     "output_type": "stream",
     "text": [
      "factioral of  5 is 120\n"
     ]
    }
   ],
   "source": [
    "def factorial(n):\n",
    "  if n==0 or n==1:\n",
    "   return 1\n",
    "  else:\n",
    "   return n*factorial (n-1)\n",
    "\n",
    "num=int(input(\"enter a number\"))\n",
    "if num<0:\n",
    "     print(\"factorial is not defined for negitive number\")\n",
    "else:\n",
    "     print(\"factioral of \",num,\"is\",factorial(num))"
   ]
  },
  {
   "cell_type": "code",
   "execution_count": 39,
   "id": "456d4c09-c816-4294-a427-3f07d51a31b3",
   "metadata": {},
   "outputs": [
    {
     "name": "stdin",
     "output_type": "stream",
     "text": [
      "enter a number 6\n"
     ]
    },
    {
     "name": "stdout",
     "output_type": "stream",
     "text": [
      "it is not a prime number 6\n"
     ]
    }
   ],
   "source": [
    "def isprime(num):\n",
    "    if num <=0:\n",
    "     return 0\n",
    "    for i in range(2,int(num**2)+1):\n",
    "     if num % i ==0:\n",
    "        return 0 \n",
    "        return 1\n",
    "num=int(input(\"enter a number\"))\n",
    "if isprime(num):\n",
    " print(\" it is prime number \",num)\n",
    "else:\n",
    " print(\"it is not a prime number\",num)"
   ]
  },
  {
   "cell_type": "raw",
   "id": "8ee09bdb-d635-48e1-b90c-086d8e562d48",
   "metadata": {},
   "source": [
    "def identifycharacter(c):\n",
    "    if islower(ch):\n",
    "      print(\"the character\",c,\"is lowercase\",ch)\n",
    "    elif (issupper(ch)):\n",
    "      print(\"the character\",c,\"is suppercase\",ch)\n",
    "    elif (isdigit(ch)):\n",
    "      print(\"the character\",c,\"is numeric\",ch)\n",
    "    else:\n",
    "      print(\"the character\",c,\"is special\",ch)\n",
    "\n",
    "ch=input(\"enter the character\")\n",
    "print(identifycharcter(c))"
   ]
  },
  {
   "cell_type": "code",
   "execution_count": 14,
   "id": "92ae7114-fa3b-46cf-a0d2-787e00a79248",
   "metadata": {},
   "outputs": [
    {
     "name": "stdout",
     "output_type": "stream",
     "text": [
      "[1, 2, 3, 4, 5.6, 7, 'suki']\n",
      "3\n",
      "i\n",
      "<class 'int'>\n"
     ]
    }
   ],
   "source": [
    "a=[1,2,3,4,5.6,7,\"suki\"]\n",
    "print(a)\n",
    "print(a[2])\n",
    "print(a[6][3])\n",
    "print(type(a[5]))"
   ]
  },
  {
   "cell_type": "code",
   "execution_count": 11,
   "id": "74deed69-1854-45df-aee4-4b43037225aa",
   "metadata": {},
   "outputs": [
    {
     "name": "stdout",
     "output_type": "stream",
     "text": [
      "7\n",
      "8\n",
      "9\n",
      "5\n"
     ]
    }
   ],
   "source": [
    "x=[7,8,9,5]\n",
    "for i in range(0,4):\n",
    "  print(x[i])"
   ]
  },
  {
   "cell_type": "code",
   "execution_count": 16,
   "id": "67212cf9-fc39-4b6c-9afe-42aabe1027c6",
   "metadata": {},
   "outputs": [
    {
     "name": "stdout",
     "output_type": "stream",
     "text": [
      "s\n",
      "f\n",
      "g\n",
      "h\n"
     ]
    }
   ],
   "source": [
    "x=['s','f','g','h']\n",
    "for i in range(0,4):\n",
    "  print(x[i])"
   ]
  },
  {
   "cell_type": "markdown",
   "id": "69b808c8-0fb1-4efd-93c2-ea13a5c0462a",
   "metadata": {},
   "source": [
    "copy :return the copy list\n",
    "append :append object to the end of the list\n",
    "extend:extend list by appending elements from the iterable\n",
    "index:return the index of value\n",
    "pop:remove and return item at index (default list)\n",
    "count:return no of occurence of value\n",
    "insert:insert object before index\n",
    "remove:remove first occenence in the list\n",
    "sort:sort the list in ascending order n return none\n",
    "len(list):it vll give the length the list\n"
   ]
  },
  {
   "cell_type": "code",
   "execution_count": 17,
   "id": "288d739c-d786-448c-8d01-01c4de8f5e6c",
   "metadata": {},
   "outputs": [
    {
     "name": "stdout",
     "output_type": "stream",
     "text": [
      "[3, 4, 5, 6]\n"
     ]
    }
   ],
   "source": [
    "a=[3,4,5,6]\n",
    "b=a.copy()\n",
    "print(b)"
   ]
  },
  {
   "cell_type": "code",
   "execution_count": 19,
   "id": "4508ea96-e16a-4db4-a9af-827bda274c91",
   "metadata": {},
   "outputs": [
    {
     "name": "stdout",
     "output_type": "stream",
     "text": [
      "[3, 4, 5, 6]\n",
      "6\n"
     ]
    }
   ],
   "source": [
    "a=[3,4,5,6]\n",
    "b=a.copy()\n",
    "print(b)\n",
    "\n",
    "c=b.pop()\n",
    "print(c)"
   ]
  },
  {
   "cell_type": "code",
   "execution_count": 28,
   "id": "fdc90a48-ab7a-4f38-b114-0812284aa17f",
   "metadata": {},
   "outputs": [
    {
     "name": "stdout",
     "output_type": "stream",
     "text": [
      "[3, 4, 5, 6]\n",
      "6\n",
      "[3, 4, 5]\n",
      "[3, 4, 5, 10]\n",
      "1\n",
      "3\n",
      "[3, 4, 5, 7, 10, 10, 7, 10]\n",
      "[4, 5, 7, 10, 10, 7, 10]\n",
      "[10, 10, 10, 7, 7, 5, 4]\n",
      "7\n",
      "[10, 10, 10, 7, 7, 5, 4, 3, 4, 5, 6]\n"
     ]
    }
   ],
   "source": [
    "a=[3,4,5,6]\n",
    "b=a.copy()\n",
    "print(b)\n",
    "\n",
    "c=b.pop()\n",
    "print(c)\n",
    "\n",
    "print(b)\n",
    "b.append(10)\n",
    "print(b)\n",
    "b.append(10)\n",
    "b.append(7)\n",
    "b.append(10)\n",
    "print(b.index(4))\n",
    "\n",
    "print(b.count(10))\n",
    "\n",
    "b.insert(3,7)\n",
    "print(b)\n",
    "\n",
    "b.remove(3)\n",
    "print(b)\n",
    "\n",
    "b.sort(reverse=True)\n",
    "print(b)\n",
    "\n",
    "print(len(b))\n",
    "\n",
    "b.extend(a)#temparory change\n",
    "print(b)\n"
   ]
  },
  {
   "cell_type": "code",
   "execution_count": 29,
   "id": "319bba1a-758e-4d94-be24-50a5fd1da27c",
   "metadata": {},
   "outputs": [
    {
     "name": "stdout",
     "output_type": "stream",
     "text": [
      "10\n",
      "310\n",
      "10\n",
      "7\n",
      "67\n",
      "5\n",
      "4\n",
      "3\n",
      "74\n",
      "5\n",
      "6\n"
     ]
    }
   ],
   "source": [
    "a=[10, 310, 10, 7, 67, 5, 4, 3, 74, 5, 6]\n",
    "for x in a:#for each loop\n",
    "    print(x)"
   ]
  },
  {
   "cell_type": "code",
   "execution_count": 34,
   "id": "506af2c0-fd01-42be-9a13-c9082a248d41",
   "metadata": {},
   "outputs": [
    {
     "name": "stdin",
     "output_type": "stream",
     "text": [
      "enter the size of the list 4\n",
      "0 8\n",
      "1 0\n",
      "2 8\n",
      "3 6\n"
     ]
    },
    {
     "name": "stdout",
     "output_type": "stream",
     "text": [
      "['8', '0', '8', '6']\n"
     ]
    }
   ],
   "source": [
    "n=int(input(\"enter the size of the list\"))\n",
    "a=[]\n",
    "for x in range(0,n):\n",
    "    x = input(x)\n",
    "    a.append(x)\n",
    "print(a)"
   ]
  },
  {
   "cell_type": "code",
   "execution_count": 33,
   "id": "8f7744a2-a503-462d-9de9-cb47b8806fb7",
   "metadata": {},
   "outputs": [
    {
     "name": "stdin",
     "output_type": "stream",
     "text": [
      "enter the elements of the list: 7 8 9 6 \n"
     ]
    },
    {
     "name": "stdout",
     "output_type": "stream",
     "text": [
      "[7, 8, 9, 6]\n"
     ]
    }
   ],
   "source": [
    "L = [int(item) for item in (input(\"enter the elements of the list:\")).split()]\n",
    "print(L)"
   ]
  },
  {
   "cell_type": "markdown",
   "id": "821eb440-6794-4026-9c5e-4ec02ba45631",
   "metadata": {},
   "source": [
    "TUPLES"
   ]
  },
  {
   "cell_type": "code",
   "execution_count": 39,
   "id": "86f2b64c-3987-47e6-97a4-20c7bfbc404a",
   "metadata": {},
   "outputs": [
    {
     "name": "stdout",
     "output_type": "stream",
     "text": [
      "[1, 2, 3, 5, 6]\n",
      "[6, 5, 3, 2, 1]\n"
     ]
    }
   ],
   "source": [
    "a=[1,2,3,5,6]\n",
    "\n",
    "a.sort(reverse=True)\n",
    "print(a)"
   ]
  },
  {
   "cell_type": "code",
   "execution_count": 54,
   "id": "743773ae-091e-4c74-b85a-53cd62181680",
   "metadata": {},
   "outputs": [
    {
     "name": "stdout",
     "output_type": "stream",
     "text": [
      "3\n",
      "5\n",
      "6\n",
      "9\n",
      "9\n"
     ]
    }
   ],
   "source": [
    "a=[9,9,6,5,3]\n",
    "for x in range(-1,-1*(len(a)+1),-1):\n",
    "  print(a[x])"
   ]
  },
  {
   "cell_type": "code",
   "execution_count": 55,
   "id": "ba243fac-1594-4dd9-a2a0-98cad4afc157",
   "metadata": {},
   "outputs": [
    {
     "name": "stdout",
     "output_type": "stream",
     "text": [
      "3\n",
      "5\n",
      "6\n",
      "9\n",
      "9\n"
     ]
    }
   ],
   "source": [
    "a=[9,9,6,5,3]\n",
    "for x in range(0,len(a)):\n",
    "  print(a[-1*(x+1)])"
   ]
  },
  {
   "cell_type": "markdown",
   "id": "2a1945e9-887b-46ea-819f-35e4666ce54c",
   "metadata": {},
   "source": [
    "dictionary\n",
    "\n",
    "key and values\n",
    "\n",
    "key values pair\n",
    "D={1.\"sss\"}\n",
    "1 is key \n",
    "sss is value\n"
   ]
  },
  {
   "cell_type": "code",
   "execution_count": 57,
   "id": "8d1d171e-a3f0-4b11-83bf-cc3472bf32d3",
   "metadata": {},
   "outputs": [
    {
     "name": "stdout",
     "output_type": "stream",
     "text": [
      "{1: 'saki', 2: 'goku'}\n"
     ]
    }
   ],
   "source": [
    "D={1:\"saki\",2:\"goku\"}\n",
    "print(D)"
   ]
  },
  {
   "cell_type": "code",
   "execution_count": 58,
   "id": "a106a2d1-5fac-4544-96f5-8216b2ff4e66",
   "metadata": {},
   "outputs": [
    {
     "name": "stdout",
     "output_type": "stream",
     "text": [
      "{1: 'saki', 2: 'yuki'}\n"
     ]
    }
   ],
   "source": [
    "D={1:\"saki\",2:\"goku\",2:\"yuki\"}#over write /take the uptadated one\n",
    "print(D)"
   ]
  },
  {
   "cell_type": "code",
   "execution_count": 61,
   "id": "7783c147-b98b-452f-a1aa-05dfb1654033",
   "metadata": {},
   "outputs": [
    {
     "name": "stdout",
     "output_type": "stream",
     "text": [
      "{1: 'saki', 2: 'goku'}\n",
      "goku\n",
      "dict_keys([1, 2])\n",
      "dict_values(['saki', 'goku'])\n",
      "dict_items([(1, 'saki'), (2, 'goku')])\n"
     ]
    }
   ],
   "source": [
    "D={1:\"saki\",2:\"goku\"}\n",
    "print(D)\n",
    "\n",
    "print(D[2])\n",
    "print(D.keys())\n",
    "print(D.values())\n",
    "print(D.items())"
   ]
  },
  {
   "cell_type": "markdown",
   "id": "a82ff08b-ab61-4ae2-b4cf-ad6d5a8d41af",
   "metadata": {},
   "source": [
    "write a prgm to take a key n value from the user input  and add it to dic if key is not present in dic\n",
    "otherwise print key already exist n also print its coressponding value............."
   ]
  },
  {
   "cell_type": "code",
   "execution_count": 72,
   "id": "24881840-ae8d-41f2-8094-0052a1557654",
   "metadata": {},
   "outputs": [
    {
     "name": "stdin",
     "output_type": "stream",
     "text": [
      "enter the key yyy\n",
      "enter the value 99\n"
     ]
    },
    {
     "name": "stdout",
     "output_type": "stream",
     "text": [
      "key is added\n",
      "updated dictionary: {'yyy': 99}\n"
     ]
    }
   ],
   "source": [
    "dict ={}\n",
    "key=(input(\"enter the key\"))\n",
    "value=int(input(\"enter the value\"))\n",
    "\n",
    "if key in dict:\n",
    "    print(\"key is already existed\")\n",
    "    print(\"value:\",dict[key])\n",
    "else:\n",
    "    dict[key]=value\n",
    "    print(\"key is added\")\n",
    "    print(\"updated dictionary:\",dict)\n",
    "\n",
    "    \n",
    "\n",
    "\n",
    "\n"
   ]
  },
  {
   "cell_type": "code",
   "execution_count": 1,
   "id": "fb8328ae-05b9-4bd4-9840-b40f6820c276",
   "metadata": {},
   "outputs": [
    {
     "name": "stdin",
     "output_type": "stream",
     "text": [
      " 7\n",
      " 0\n"
     ]
    },
    {
     "name": "stdout",
     "output_type": "stream",
     "text": [
      "wwe cant divide by zero\n",
      "error handled\n",
      "we have received the results as : 0\n"
     ]
    }
   ],
   "source": [
    "A=input()\n",
    "B=input()\n",
    "try:\n",
    "    c=A/B\n",
    "except:\n",
    "    print(\"wwe cant divide by zero\")\n",
    "    c=0\n",
    "else:\n",
    "    print(\"division success\")\n",
    "    print(c)\n",
    "finally:\n",
    "    print(\"error handled\")\n",
    "\n",
    "print(\"we have received the results as :\",c)\n"
   ]
  },
  {
   "cell_type": "code",
   "execution_count": 7,
   "id": "58b981da-3ab4-4c1d-b1ed-6a6bd9f7eb9f",
   "metadata": {},
   "outputs": [
    {
     "ename": "IndentationError",
     "evalue": "unexpected indent (3871846581.py, line 4)",
     "output_type": "error",
     "traceback": [
      "\u001b[1;36m  Cell \u001b[1;32mIn[7], line 4\u001b[1;36m\u001b[0m\n\u001b[1;33m    c=A/B\u001b[0m\n\u001b[1;37m    ^\u001b[0m\n\u001b[1;31mIndentationError\u001b[0m\u001b[1;31m:\u001b[0m unexpected indent\n"
     ]
    }
   ],
   "source": [
    "A=input()\n",
    "B=input()\n",
    "\n",
    "   c=A/B\n",
    "\n",
    "\n",
    "print(\"we have received the results as :\",c)"
   ]
  },
  {
   "cell_type": "code",
   "execution_count": 9,
   "id": "8544a27b-4a6d-4c76-a7ea-e2d78bd3e093",
   "metadata": {},
   "outputs": [
    {
     "name": "stdin",
     "output_type": "stream",
     "text": [
      "enter the index  6\n"
     ]
    },
    {
     "name": "stdout",
     "output_type": "stream",
     "text": [
      "the index is not existed\n"
     ]
    }
   ],
   "source": [
    "a=[1,2,3,4,5,6]\n",
    "index=int(input(\"enter the index \"))\n",
    "\n",
    "try:\n",
    "    print(a[i])\n",
    "except:\n",
    "    print(\"the index is not existed\")\n",
    "    \n",
    "\n",
    "\n"
   ]
  },
  {
   "cell_type": "code",
   "execution_count": 14,
   "id": "2aa9146b-c60f-4d6e-a1c1-43778ffc744c",
   "metadata": {},
   "outputs": [
    {
     "name": "stdin",
     "output_type": "stream",
     "text": [
      " 9\n",
      " 0\n"
     ]
    },
    {
     "name": "stdout",
     "output_type": "stream",
     "text": [
      "cant be divisible to zero\n",
      "code executed\n"
     ]
    }
   ],
   "source": [
    "try:\n",
    "    a=input()\n",
    "    b=input()\n",
    "    c=int(a)/int(b)\n",
    "    x=\"he\n",
    "except ValueError :\n",
    "    print(\"the value cant be converted\")\n",
    "except ZeroDivisionError :\n",
    "    print(\"cant be divisible to zero\")\n",
    "except:\n",
    "    print(\"some unknown error\")\n",
    "else:\n",
    "    print(\"no error\")\n",
    "finally:\n",
    "    print(\"code executed\")\n",
    "          "
   ]
  },
  {
   "cell_type": "markdown",
   "id": "cdac5786-8f0d-433a-95c5-299ae4c79015",
   "metadata": {},
   "source": [
    "write aphyton prgm to find the sum of all the elements in the list n enter the case if it is non numerical value\n",
    "\n"
   ]
  },
  {
   "cell_type": "code",
   "execution_count": null,
   "id": "40d7edcd-9bcc-4cf0-a60a-01bc02a1a0b3",
   "metadata": {},
   "outputs": [],
   "source": [
    "def identifycharacter(c):\n",
    "    if islower(ch):\n",
    "      print(\"the character\",c,\"is lowercase\",ch)\n",
    "    elif (issupper(ch)):\n",
    "      print(\"the character\",c,\"is suppercase\",ch)\n",
    "    elif (isdigit(ch)):\n",
    "      print(\"the character\",c,\"is numeric\",ch)\n",
    "    else:\n",
    "      print(\"the character\",c,\"is special\",ch)\n",
    "\n",
    "ch=input(\"enter the character\")\n",
    "print(identifycharcter(c))"
   ]
  },
  {
   "cell_type": "code",
   "execution_count": null,
   "id": "664fff0b-7413-45d5-a83e-1d5812665783",
   "metadata": {},
   "outputs": [
    {
     "name": "stdout",
     "output_type": "stream",
     "text": [
      "\n",
      "menu:\n",
      "1. addition\n",
      "2. subtraction\n",
      "3. multiplication\n",
      "4. division\n",
      "5. modulo\n",
      "6. exit\n"
     ]
    },
    {
     "name": "stdin",
     "output_type": "stream",
     "text": [
      "enter your choice (1/2/3/4/5/6):  3\n",
      "enter first number:  6\n",
      "enter second number:  7\n"
     ]
    },
    {
     "name": "stdout",
     "output_type": "stream",
     "text": [
      "result: 42.0\n",
      "\n",
      "menu:\n",
      "1. addition\n",
      "2. subtraction\n",
      "3. multiplication\n",
      "4. division\n",
      "5. modulo\n",
      "6. exit\n"
     ]
    }
   ],
   "source": [
    "\n",
    "def add(x, y):\n",
    "    return x + y\n",
    "def subtract(x, y):\n",
    "    return x - y\n",
    "def multiply(x, y):\n",
    "    return x * y\n",
    "def divide(x, y):\n",
    "    if y == 0:\n",
    "        return \"error! division by zero\"\n",
    "    else:\n",
    "        return x / y\n",
    "def modulo(x, y):\n",
    "    if y == 0:\n",
    "        return \"error! modulo by zero\"\n",
    "    else:\n",
    "        return x % y\n",
    "while True:\n",
    "    print(\"\\nmenu:\")\n",
    "    print(\"1. addition\")\n",
    "    print(\"2. subtraction\")\n",
    "    print(\"3. multiplication\")\n",
    "    print(\"4. division\")\n",
    "    print(\"5. modulo\")\n",
    "    print(\"6. exit\")\n",
    "\n",
    "    choice = input(\"enter your choice (1/2/3/4/5/6): \")\n",
    "    if choice in ('1','2','3','4','5'):\n",
    "        num1 = float(input(\"enter first number: \"))\n",
    "        num2 = float(input(\"enter second number: \"))\n",
    "        if choice == '1':\n",
    "            print(\"result:\",add(num1, num2))\n",
    "        elif choice == '2':\n",
    "            print(\"result:\",subtract(num1, num2))\n",
    "        elif choice == '3':\n",
    "            print(\"result:\",multiply(num1, num2))\n",
    "        elif choice == '4':\n",
    "            print(\n",
    "                \"result:\",divide(num1, num2))\n",
    "        elif choice == '5':\n",
    "            print(\"result:\",modulo(num1, num2))\n",
    "        elif choice == '6':\n",
    "            print(\"exiting...\")\n",
    "            break\n",
    "        else:\n",
    "            print(\"invalid input. please enter a number from 1 to 6\")"
   ]
  },
  {
   "cell_type": "code",
   "execution_count": null,
   "id": "50d972e4-eb74-492b-b591-0ba1985e9f9a",
   "metadata": {},
   "outputs": [],
   "source": [
    "def sum_of_list_elements(lst):\n",
    "    total = 0\n",
    "    for item in lst:\n",
    "        try:\n",
    "            total += float(item)\n",
    "        except ValueError:\n",
    "            print(f\"Warning: Non-numeric value '{item}' found in the list. Skipping...\")\n",
    "    return total\n",
    "\n",
    "my_list = [1, 2, 3, 4, 5, 'a', 6, 'b', 7, 8, 9]\n",
    "result = sum_of_list_elements(my_list)\n",
    "print(\"Sum of list elements:\", result)\n"
   ]
  },
  {
   "cell_type": "code",
   "execution_count": null,
   "id": "610de174-a705-44be-96ff-cd4c009983c4",
   "metadata": {},
   "outputs": [],
   "source": []
  },
  {
   "cell_type": "code",
   "execution_count": null,
   "id": "49e1cfce-949e-44d5-b477-fa32878cf41c",
   "metadata": {},
   "outputs": [],
   "source": []
  }
 ],
 "metadata": {
  "kernelspec": {
   "display_name": "Python 3 (ipykernel)",
   "language": "python",
   "name": "python3"
  },
  "language_info": {
   "codemirror_mode": {
    "name": "ipython",
    "version": 3
   },
   "file_extension": ".py",
   "mimetype": "text/x-python",
   "name": "python",
   "nbconvert_exporter": "python",
   "pygments_lexer": "ipython3",
   "version": "3.12.3"
  }
 },
 "nbformat": 4,
 "nbformat_minor": 5
}
