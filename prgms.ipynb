{
 "cells": [
  {
   "cell_type": "code",
   "execution_count": 14,
   "id": "ca1bb919-db19-4ed7-bdc7-cffe7114437a",
   "metadata": {},
   "outputs": [
    {
     "name": "stdin",
     "output_type": "stream",
     "text": [
      "enter a number 6\n"
     ]
    },
    {
     "name": "stdout",
     "output_type": "stream",
     "text": [
      "it is not a prime number 6\n"
     ]
    }
   ],
   "source": [
    "def isprime(num):\n",
    "    if num <=0:\n",
    "     return 0\n",
    "    for i in range(2,int(num**2)+1):\n",
    "     if num % i ==0:\n",
    "        return 0 \n",
    "        return 1\n",
    "num=int(input(\"enter a number\"))\n",
    "if isprime(num):\n",
    " print(\" it is prime number \",num)\n",
    "else:\n",
    " print(\"it is not a prime number\",num)"
   ]
  },
  {
   "cell_type": "code",
   "execution_count": 15,
   "id": "48d6be29-8420-4101-9a38-4b9e6cd2df10",
   "metadata": {},
   "outputs": [
    {
     "name": "stdin",
     "output_type": "stream",
     "text": [
      "enter a number 9\n"
     ]
    },
    {
     "name": "stdout",
     "output_type": "stream",
     "text": [
      "factioral of  9 is 362880\n"
     ]
    }
   ],
   "source": [
    "def factorial(n):\n",
    "  if n==0 or n==1:\n",
    "   return 1\n",
    "  else:\n",
    "   return n*factorial (n-1)\n",
    "\n",
    "num=int(input(\"enter a number\"))\n",
    "if num<0:\n",
    "     print(\"factorial is not defined for negitive number\")\n",
    "else:\n",
    "     print(\"factioral of \",num,\"is\",factorial(num))"
   ]
  },
  {
   "cell_type": "code",
   "execution_count": null,
   "id": "cf175671-7bfa-4e86-9e89-8544f38b7abf",
   "metadata": {},
   "outputs": [
    {
     "name": "stdout",
     "output_type": "stream",
     "text": [
      "\n",
      "menu:\n",
      "1. addition\n",
      "2. subtraction\n",
      "3. multiplication\n",
      "4. division\n",
      "5. modulo\n",
      "6. exit\n"
     ]
    },
    {
     "name": "stdin",
     "output_type": "stream",
     "text": [
      "enter your choice (1/2/3/4/5/6):  1\n",
      "enter first number:  89\n",
      "enter second number:  90\n"
     ]
    },
    {
     "name": "stdout",
     "output_type": "stream",
     "text": [
      "result: 179.0\n",
      "\n",
      "menu:\n",
      "1. addition\n",
      "2. subtraction\n",
      "3. multiplication\n",
      "4. division\n",
      "5. modulo\n",
      "6. exit\n"
     ]
    },
    {
     "name": "stdin",
     "output_type": "stream",
     "text": [
      "enter your choice (1/2/3/4/5/6):  6\n"
     ]
    },
    {
     "name": "stdout",
     "output_type": "stream",
     "text": [
      "\n",
      "menu:\n",
      "1. addition\n",
      "2. subtraction\n",
      "3. multiplication\n",
      "4. division\n",
      "5. modulo\n",
      "6. exit\n"
     ]
    }
   ],
   "source": [
    "def add(x, y):\n",
    "    return x + y\n",
    "def subtract(x, y):\n",
    "    return x - y\n",
    "def multiply(x, y):\n",
    "    return x * y\n",
    "def divide(x, y):\n",
    "    if y == 0:\n",
    "        return \"error! division by zero\"\n",
    "    else:\n",
    "        return x / y\n",
    "def modulo(x, y):\n",
    "    if y == 0:\n",
    "        return \"error! modulo by zero\"\n",
    "    else:\n",
    "        return x % y\n",
    "while True:\n",
    "    print(\"\\nmenu:\")\n",
    "    print(\"1. addition\")\n",
    "    print(\"2. subtraction\")\n",
    "    print(\"3. multiplication\")\n",
    "    print(\"4. division\")\n",
    "    print(\"5. modulo\")\n",
    "    print(\"6. exit\")\n",
    "\n",
    "    choice = input(\"enter your choice (1/2/3/4/5/6): \")\n",
    "    if choice in ('1','2','3','4','5'):\n",
    "        num1 = float(input(\"enter first number: \"))\n",
    "        num2 = float(input(\"enter second number: \"))\n",
    "        if choice == '1':\n",
    "            print(\"result:\",add(num1, num2))\n",
    "        elif choice == '2':\n",
    "            print(\"result:\",subtract(num1, num2))\n",
    "        elif choice == '3':\n",
    "            print(\"result:\",multiply(num1, num2))\n",
    "        elif choice == '4':\n",
    "            print(\n",
    "                \"result:\",divide(num1, num2))\n",
    "        elif choice == '5':\n",
    "            print(\"result:\",modulo(num1, num2))\n",
    "        elif choice == '6':\n",
    "            print(\"exiting...\")\n",
    "            break\n",
    "        else:\n",
    "            print(\"invalid input. please enter a number from 1 to 6\")"
   ]
  },
  {
   "cell_type": "code",
   "execution_count": 10,
   "id": "48bc5ec0-c0ce-47b9-ae83-9e79cb5bd8ed",
   "metadata": {},
   "outputs": [
    {
     "name": "stdout",
     "output_type": "stream",
     "text": [
      " Non-numeric value item found in the list.\n",
      "Sum of list elements: 6\n"
     ]
    }
   ],
   "source": [
    "def sumoflistelements(list):\n",
    "    total = 0\n",
    "    for item in list:\n",
    "        try:\n",
    "            total += int(item)\n",
    "        except ValueError:\n",
    "            print(\" Non-numeric value item found in the list.\")\n",
    "    return total\n",
    "\n",
    "my_list = [1, 2, 3, 'i',]\n",
    "result = sumoflistelements(my_list)\n",
    "print(\"Sum of list elements:\", result)\n",
    "\n",
    "\n"
   ]
  },
  {
   "cell_type": "code",
   "execution_count": 9,
   "id": "d2f8dc1e-e401-44ac-9c9e-90de8139d237",
   "metadata": {},
   "outputs": [
    {
     "name": "stdout",
     "output_type": "stream",
     "text": [
      "[3, 4, 5, 7, 'ss']\n",
      "not a numeric\n",
      "sum: 19\n"
     ]
    }
   ],
   "source": [
    "a=[3,4,5,7,'ss']\n",
    "print(a)\n",
    "sum = 0\n",
    "try:\n",
    "    for i in a:\n",
    "        sum+=int(i)\n",
    "\n",
    "except ValueError:\n",
    "    print(\"not a numeric\")\n",
    "print(\"sum:\",sum)\n"
   ]
  },
  {
   "cell_type": "code",
   "execution_count": 13,
   "id": "8398901c-297b-4840-ba98-ea626d0fe6e1",
   "metadata": {},
   "outputs": [
    {
     "name": "stdin",
     "output_type": "stream",
     "text": [
      "Enter the number of students:  2\n",
      "Enter student name:  ttt\n",
      "Enter student grade:  90\n",
      "Enter student name:  yyy\n",
      "Enter student grade:  69\n"
     ]
    },
    {
     "name": "stdout",
     "output_type": "stream",
     "text": [
      "Average grade: 79.5\n"
     ]
    }
   ],
   "source": [
    "gradesdict = {}\n",
    "num_students = int(input(\"Enter the number of students: \"))\n",
    "\n",
    "for _ in range(num_students):\n",
    "    name = input(\"Enter student name: \")\n",
    "    grade = int(input(\"Enter student grade: \"))\n",
    "    gradesdict[name] = grade\n",
    "\n",
    "totalgrade = 0\n",
    "count = 0\n",
    "for grade in gradesdict.values():\n",
    "    totalgrade += grade\n",
    "    count += 1\n",
    "\n",
    "if count > 0:\n",
    "    averagegrade = totalgrade / count\n",
    "    print(\"Average grade:\", averagegrade)\n",
    "else:\n",
    "    print(\"Dictionary is empty!\")\n",
    "\n"
   ]
  },
  {
   "cell_type": "code",
   "execution_count": 7,
   "id": "d67b4462-2e5a-44e1-9d63-755cfd0ad444",
   "metadata": {},
   "outputs": [
    {
     "name": "stdin",
     "output_type": "stream",
     "text": [
      "Enter a character:  8\n"
     ]
    },
    {
     "name": "stdout",
     "output_type": "stream",
     "text": [
      "The character '8' is identified as: Numerical\n"
     ]
    }
   ],
   "source": [
    "def charactertype(char):\n",
    "    if char.isalpha():\n",
    "        if char.islower():\n",
    "            return \"Lowercase letter\"\n",
    "        elif char.isupper():\n",
    "            return \"Uppercase letter\"\n",
    "        else:\n",
    "            return \"Alphabet (case unknown)\"\n",
    "    elif char.isdigit():\n",
    "        return \"Numerical\"\n",
    "    else:\n",
    "        return \"Special character\"\n",
    "\n",
    "while True:\n",
    "    userinput = input(\"Enter a character: \")\n",
    "    \n",
    "    if len(userinput) != 1:\n",
    "        print(\"Please enter only one character.\")\n",
    "    else:\n",
    "        char = userinput.lower()\n",
    "        print(f\"The character '{char}' is identified as: {charactertype(char)}\")\n",
    "        break\n"
   ]
  },
  {
   "cell_type": "code",
   "execution_count": null,
   "id": "73fd50a4-5d4a-4a40-80cf-50a140c8fc77",
   "metadata": {},
   "outputs": [],
   "source": [
    " \n"
   ]
  },
  {
   "cell_type": "code",
   "execution_count": 15,
   "id": "f7396ab6-17ca-4456-ba8d-b1b65d92f3a3",
   "metadata": {},
   "outputs": [
    {
     "name": "stdin",
     "output_type": "stream",
     "text": [
      "Enter a string:  8\n"
     ]
    },
    {
     "name": "stdout",
     "output_type": "stream",
     "text": [
      "The string '8' is a palindrome.\n"
     ]
    }
   ],
   "source": [
    "def palindrome(s):#wrongggg\n",
    "    s = s.lower()\n",
    "    return s == s[::-1]\n",
    "\n",
    "while True:\n",
    "    userinput = input(\"Enter a string: \")\n",
    "    \n",
    "    if len(userinput) == 0:\n",
    "        print(\"Please enter a non-empty string.\")\n",
    "    else:\n",
    "        if palindrome(userinput):\n",
    "            print(f\"The string '{userinput}' is a palindrome.\")\n",
    "        else:\n",
    "            print(f\"The string '{userinput}' is not a palindrome.\")\n",
    "        break"
   ]
  },
  {
   "cell_type": "code",
   "execution_count": 18,
   "id": "18e9f8f3-37a3-4cfa-a6a5-1c676179f4c5",
   "metadata": {},
   "outputs": [
    {
     "name": "stdin",
     "output_type": "stream",
     "text": [
      "enter a string:  r\n"
     ]
    },
    {
     "name": "stdout",
     "output_type": "stream",
     "text": [
      "the string is a palindrome\n"
     ]
    }
   ],
   "source": [
    "def ispalindrome(s):\n",
    "    s = s.lower().replace(\" \",\"\")\n",
    "    return s == s[::-1]\n",
    "string = input(\"enter a string: \")\n",
    "if ispalindrome(string):\n",
    "    print(\"the string is a palindrome\")\n",
    "else:\n",
    "    print(\"the string is not a palindrome\")"
   ]
  },
  {
   "cell_type": "code",
   "execution_count": null,
   "id": "06ce7795-e6a9-4f52-9e26-b4ae472cec6d",
   "metadata": {},
   "outputs": [],
   "source": []
  },
  {
   "cell_type": "code",
   "execution_count": 23,
   "id": "40f9c579-bbea-4080-aaf8-5ece6fd0651e",
   "metadata": {},
   "outputs": [
    {
     "name": "stdin",
     "output_type": "stream",
     "text": [
      " l\n"
     ]
    },
    {
     "name": "stdout",
     "output_type": "stream",
     "text": [
      "A is the lower case\n"
     ]
    }
   ],
   "source": [
    "a=input()\n",
    "\n",
    "if a.isupper():\n",
    "    print(\"A is the upper case\")\n",
    "elif a.islower():\n",
    "    print(\"A is the lower case\")\n",
    "elif a.isnumeric():\n",
    "    print(\"A is the number\")\n",
    "else:\n",
    "    print(\"A is the special case\")"
   ]
  },
  {
   "cell_type": "code",
   "execution_count": 25,
   "id": "78c6227e-a3c9-4353-947b-7cdf5f40123d",
   "metadata": {},
   "outputs": [
    {
     "name": "stdin",
     "output_type": "stream",
     "text": [
      " shaahs\n"
     ]
    },
    {
     "name": "stdout",
     "output_type": "stream",
     "text": [
      "pallindrone\n"
     ]
    }
   ],
   "source": [
    "a=input()\n",
    "flag = 0\n",
    "for i in range (0,int(len(a)/2)):\n",
    "    if a[i] !=a[(i+1)*-1]:\n",
    "        flag = 1\n",
    "        break\n",
    "\n",
    "if flag:\n",
    "    print(\"not pallindrome\")\n",
    "else:\n",
    "    print(\"pallindrone\")"
   ]
  },
  {
   "cell_type": "code",
   "execution_count": null,
   "id": "584401a2-ae31-4ce8-890e-5cc51d1386c4",
   "metadata": {},
   "outputs": [],
   "source": []
  }
 ],
 "metadata": {
  "kernelspec": {
   "display_name": "Python 3 (ipykernel)",
   "language": "python",
   "name": "python3"
  },
  "language_info": {
   "codemirror_mode": {
    "name": "ipython",
    "version": 3
   },
   "file_extension": ".py",
   "mimetype": "text/x-python",
   "name": "python",
   "nbconvert_exporter": "python",
   "pygments_lexer": "ipython3",
   "version": "3.12.3"
  }
 },
 "nbformat": 4,
 "nbformat_minor": 5
}
