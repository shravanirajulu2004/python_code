{
 "cells": [
  {
   "cell_type": "code",
   "execution_count": 21,
   "id": "42612682-d8e0-4dfe-8ab3-1554ad2fc443",
   "metadata": {},
   "outputs": [
    {
     "name": "stdin",
     "output_type": "stream",
     "text": [
      "enter the number 23\n"
     ]
    },
    {
     "name": "stdout",
     "output_type": "stream",
     "text": [
      "it is not a prime number\n"
     ]
    }
   ],
   "source": [
    "def is_prime(n):\n",
    "   for i in range(2,int(n/2)):\n",
    "       if n % i==0:\n",
    "   \n",
    "           return 1\n",
    "n=int(input(\"enter the number\"))\n",
    "if is_prime(n):\n",
    " print(\"it is a prime number\")\n",
    "else:\n",
    " print(\"it is not a prime number\")"
   ]
  },
  {
   "cell_type": "code",
   "execution_count": 20,
   "id": "a7e191d5-3146-4a82-a82d-065029f5f030",
   "metadata": {},
   "outputs": [
    {
     "ename": "IndentationError",
     "evalue": "expected an indented block after 'if' statement on line 4 (1358597944.py, line 6)",
     "output_type": "error",
     "traceback": [
      "\u001b[1;36m  Cell \u001b[1;32mIn[20], line 6\u001b[1;36m\u001b[0m\n\u001b[1;33m    if a:\u001b[0m\n\u001b[1;37m    ^\u001b[0m\n\u001b[1;31mIndentationError\u001b[0m\u001b[1;31m:\u001b[0m expected an indented block after 'if' statement on line 4\n"
     ]
    }
   ],
   "source": [
    "a=int(input())#dusara walla\n",
    "\n",
    "for i in range(2,int(a/2)):\n",
    "    if a%i==0:\n",
    "        \n",
    "        if :    \n",
    "        print(\"A is not a prime\")\n",
    "    else:\n",
    "        print(\"A is a prime\")\n",
    "        "
   ]
  },
  {
   "cell_type": "markdown",
   "id": "67524db2-5cd8-42d4-af00-bd3bd7c8da4d",
   "metadata": {},
   "source": [
    "file handling\n",
    "\n",
    "create\n",
    "read\n",
    "update\n",
    "delete"
   ]
  },
  {
   "cell_type": "code",
   "execution_count": null,
   "id": "a98cf393-b185-432f-a2bc-a356e1666e95",
   "metadata": {},
   "outputs": [],
   "source": [
    "if __name__=='__main__':\n",
    "    filename = \"example.txt\"\n",
    "    new-filename = \"new_example.txt\"\n",
    "\n",
    "    create_file(filename)\n",
    "    read_file(filename)\n",
    "    append_file(filename,\"this is some additional text:\\n\")\n",
    "    read_file(filename)\n",
    "    rename_file(filename,new_filename)\n",
    "    read_file(new_filename)\n",
    "    "
   ]
  },
  {
   "cell_type": "code",
   "execution_count": 43,
   "id": "c4f6a167-a167-43cf-8ba2-99a90e865553",
   "metadata": {},
   "outputs": [],
   "source": [
    "#pass means just pass the things\n",
    "import os\n",
    "\n",
    "with open(\"file1.txt\",'w') as f:\n",
    "    f.write(\"first word\\n\")\n",
    "    f.close()\n",
    "\n",
    "    "
   ]
  },
  {
   "cell_type": "code",
   "execution_count": 39,
   "id": "1c24f9b3-0aa9-42aa-bd0d-4d8a31ec1891",
   "metadata": {},
   "outputs": [
    {
     "name": "stdout",
     "output_type": "stream",
     "text": [
      "9\n",
      "111\n",
      "9\n",
      "111\n"
     ]
    }
   ],
   "source": [
    "import os\n",
    "\n",
    "with open(\"file1.txt\",'r') as f:\n",
    "   for i in f.read().split(\"\\n\"):\n",
    "       print(a)\n",
    "       print(\"111\")\n",
    "\n",
    "f.close()"
   ]
  },
  {
   "cell_type": "code",
   "execution_count": 42,
   "id": "ff6952b7-a8bf-4b91-bd03-6d01a419f813",
   "metadata": {},
   "outputs": [],
   "source": [
    "import os\n",
    "os.remove(\"file1.txt\")"
   ]
  },
  {
   "cell_type": "code",
   "execution_count": 41,
   "id": "2e53e64a-e3cc-49f6-8eda-1d9a79c1da0d",
   "metadata": {},
   "outputs": [],
   "source": [
    "import os\n",
    "\n",
    "with open(\"file1.txt\",'a') as f:\n",
    "    f.write(\"second word\\n\")\n",
    "    f.close()\n",
    "    "
   ]
  },
  {
   "cell_type": "code",
   "execution_count": null,
   "id": "d700bb91-f3cf-46bb-a14f-7b65f606019f",
   "metadata": {},
   "outputs": [],
   "source": [
    "import os\n",
    "\n",
    "with open(\"file1.txt\",'w') as f:\n",
    "    f.append(\"file\"+filename+\"file1.txt\"+new filename+\"\n"
   ]
  },
  {
   "cell_type": "markdown",
   "id": "41057953-3692-4a59-98b0-5f2b6bfa09ff",
   "metadata": {},
   "source": [
    "w =write\n",
    "r =read\n",
    "a =append\n",
    "w+ =write and read\n",
    "r+ =read and write\n",
    "a+ =append and read\n"
   ]
  },
  {
   "cell_type": "markdown",
   "id": "fb6cc27e-32fd-4589-8806-bb0b2252bb2d",
   "metadata": {},
   "source": [
    "#Create a file Named as Fruit name and Add the fruit names by taking input from the user.\n",
    "after that replace a fruit name with other fruit name entered by the user.\n",
    "\n",
    "for example:\n",
    "file have \n",
    "Apple\n",
    "Banana\n",
    "Mango\n",
    "Grapes\n",
    "\n",
    "now replace Banana with watermelon"
   ]
  },
  {
   "cell_type": "code",
   "execution_count": 7,
   "id": "5ec6612c-0bae-44bc-a517-23640cbcedb5",
   "metadata": {},
   "outputs": [
    {
     "name": "stdout",
     "output_type": "stream",
     "text": [
      "enter the fruits name\n",
      "apple\n",
      "banana\n",
      "orange\n",
      "\n",
      "enter the fruits name\n",
      "apple\n",
      "watermeleon\n",
      "orange\n",
      "\n"
     ]
    }
   ],
   "source": [
    "\n",
    "import os\n",
    "\n",
    "with open(\"fruit name.txt\",'w') as f:\n",
    "    f.write(\"enter the fruits name\\n\")\n",
    "    f.write(\"apple\\n\")\n",
    "    f.write(\"banana\\n\")\n",
    "    f.write(\"orange\\n\")\n",
    "\n",
    "\n",
    "with open(\"fruit name.txt\",'r') as f:\n",
    "    a=f.read()\n",
    "    print(a)\n",
    "    y=a.replace(\"banana\",\"watermeleon\",1)\n",
    "    print(y)\n"
   ]
  },
  {
   "cell_type": "code",
   "execution_count": 15,
   "id": "206e6ef3-7ee2-492a-b69a-b1239dd841ba",
   "metadata": {},
   "outputs": [
    {
     "name": "stdin",
     "output_type": "stream",
     "text": [
      "enter the temp in celsius 24\n"
     ]
    },
    {
     "name": "stdout",
     "output_type": "stream",
     "text": [
      "degree celsuis is equal to degree fehrenheit 24 is 75.2\n"
     ]
    }
   ],
   "source": [
    "#convert temp from celsius to fahrenheit\n",
    "cel=int(input(\"enter the temp in celsius\"))\n",
    "fahrenheit=(cel *9/5)+32\n",
    "print(\"degree celsuis is equal to degree fehrenheit\",cel,\"is\",fahrenheit)\n",
    "    "
   ]
  },
  {
   "cell_type": "code",
   "execution_count": 17,
   "id": "7c7e366e-1476-400e-81e7-77ac52a37799",
   "metadata": {},
   "outputs": [
    {
     "name": "stdout",
     "output_type": "stream",
     "text": [
      "sum of even numbers in the list 20\n"
     ]
    }
   ],
   "source": [
    "#sum of all even no in the list\n",
    "a=[1,2,3,4,5,6,7,8]\n",
    "size = len(a)\n",
    "sum =0\n",
    "for  i in range(size):\n",
    "    if a[i] % 2 == 0:\n",
    "     sum+=a[i]\n",
    "\n",
    "print(\"sum of even numbers in the list\",sum)"
   ]
  },
  {
   "cell_type": "code",
   "execution_count": 18,
   "id": "db1266c3-f461-4a1a-a46e-72cbaafd7ed7",
   "metadata": {},
   "outputs": [
    {
     "name": "stdout",
     "output_type": "stream",
     "text": [
      "Reversed sentence: beauty a is suzuki\n"
     ]
    }
   ],
   "source": [
    "#reverse the words in given sentence\n",
    "def reverse_words(sentence):\n",
    "    words = sentence.split() \n",
    "    reversed_words = words[::-1] \n",
    "    reversed_sentence = ' '.join(reversed_words)\n",
    "    return reversed_sentence\n",
    "\n",
    "sentence = \"suzuki is a beauty\" \n",
    "reversed_sentence = reverse_words(sentence)\n",
    "print(\"Reversed sentence:\", reversed_sentence)"
   ]
  },
  {
   "cell_type": "code",
   "execution_count": 25,
   "id": "517f6616-e81b-45b6-b504-db5d0310f800",
   "metadata": {},
   "outputs": [
    {
     "name": "stdin",
     "output_type": "stream",
     "text": [
      " hii there\n"
     ]
    },
    {
     "name": "stdout",
     "output_type": "stream",
     "text": [
      "Number of vowels in the given string: 4\n"
     ]
    }
   ],
   "source": [
    "#count the sum of vowels in string\n",
    "def countvowels(s):\n",
    "    vowels = 'aeiouAEIOU'\n",
    "    count = 0\n",
    "    for i in s:\n",
    "        if  i in vowels:\n",
    "            count += 1\n",
    "    return count\n",
    "\n",
    "string=input()\n",
    "print(\"Number of vowels in the given string:\", countvowels(string))"
   ]
  },
  {
   "cell_type": "code",
   "execution_count": 30,
   "id": "ae5f2346-837a-4b7e-ba6a-af69c868ad58",
   "metadata": {},
   "outputs": [
    {
     "name": "stdout",
     "output_type": "stream",
     "text": [
      "Counter({4: 3, 1: 2, 2: 2, 3: 2})\n"
     ]
    }
   ],
   "source": [
    "from collections import Counter\n",
    "\n",
    "def countelements(a):\n",
    "    elementcounts =Counter(a)\n",
    "    return elementcounts\n",
    "\n",
    "A=[1,2,3,4,3,2,1,4,4]\n",
    "print(countelements(A))\n",
    "\n",
    "\n"
   ]
  },
  {
   "cell_type": "code",
   "execution_count": 2,
   "id": "ef1c610e-d27c-48e3-ad77-d0e1f9a193e9",
   "metadata": {},
   "outputs": [
    {
     "name": "stdin",
     "output_type": "stream",
     "text": [
      "enter the size1 3\n"
     ]
    },
    {
     "name": "stdout",
     "output_type": "stream",
     "text": [
      "enter the elements:\n"
     ]
    },
    {
     "name": "stdin",
     "output_type": "stream",
     "text": [
      " 45\n",
      " 67\n",
      " 86\n"
     ]
    },
    {
     "name": "stdout",
     "output_type": "stream",
     "text": [
      "the ssecond largest: 67\n"
     ]
    }
   ],
   "source": [
    "d=[]\n",
    "n=int(input(\"enter the size1\"))\n",
    "print(\"enter the elements:\")\n",
    "for i in range(0,n):\n",
    "    a=int(input())\n",
    "    d.append(a)\n",
    "\n",
    "d.sort()\n",
    "print(\"the ssecond largest:\",end=\" \")\n",
    "print(d[-2])"
   ]
  },
  {
   "cell_type": "code",
   "execution_count": null,
   "id": "a63404cb-a8af-496b-8b8d-0e892a39a73c",
   "metadata": {},
   "outputs": [],
   "source": []
  }
 ],
 "metadata": {
  "kernelspec": {
   "display_name": "Python 3 (ipykernel)",
   "language": "python",
   "name": "python3"
  },
  "language_info": {
   "codemirror_mode": {
    "name": "ipython",
    "version": 3
   },
   "file_extension": ".py",
   "mimetype": "text/x-python",
   "name": "python",
   "nbconvert_exporter": "python",
   "pygments_lexer": "ipython3",
   "version": "3.12.3"
  }
 },
 "nbformat": 4,
 "nbformat_minor": 5
}
